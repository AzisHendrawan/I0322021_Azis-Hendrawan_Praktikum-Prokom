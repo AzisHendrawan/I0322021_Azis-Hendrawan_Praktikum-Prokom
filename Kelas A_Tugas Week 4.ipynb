{
 "cells": [
  {
   "cell_type": "code",
   "execution_count": null,
   "metadata": {},
   "outputs": [],
   "source": [
    "print(input(\"Nama: \"))\n",
    "print(input(\"NIM: \"))\n",
    "print(input(\"Kelas: \"))"
   ]
  },
  {
   "attachments": {},
   "cell_type": "markdown",
   "metadata": {},
   "source": [
    "## 1."
   ]
  },
  {
   "attachments": {},
   "cell_type": "markdown",
   "metadata": {},
   "source": [
    "Buatlah program persyaratan pembuatan SIM dengan input yaitu nama user, umur user, dan nilai tes user.<br>\n",
    "Dengan ketentuan mendapat SIM sebagai berikut:\n",
    "* Umur dari user harus lebih dari sama dengan 17 tahun\n",
    "* Nilai tes lebih dari sama dengan 70\n",
    "\n",
    "<br>Output yang dihasilkan dari program adalah:\n",
    "<br>\"Selamat Anda Berhak Mendapatkan SIM Anda\"\n",
    "<br>\"Maaf, Anda tidak berhak mendapatkan SIM anda\"\n",
    "> *note: Kerjakan soal ini dengan percabangan*"
   ]
  },
  {
   "cell_type": "code",
   "execution_count": 8,
   "metadata": {},
   "outputs": [
    {
     "name": "stdout",
     "output_type": "stream",
     "text": [
      "atas nama ajis dengan umur 16 yang mendapatkan nilai 72\n",
      "Maaf anda tidak berhak mendapatkan SIM anda\n"
     ]
    }
   ],
   "source": [
    "# Kerjakan soal no 1 di sini\n",
    "nama = input(\"masukkan nama anda : \")\n",
    "umur = int(input(\"masukkan umur anda : \"))\n",
    "nilai = int(input(\"masukkan nilai anda : \"))\n",
    "print(f\"atas nama {nama} dengan umur {umur} yang mendapatkan nilai {nilai}\")\n",
    "\n",
    "if umur >= 17:\n",
    "    if nilai >= 70:\n",
    "        print(\"Selamat anda berhak mendapatkan sim anda\")\n",
    "    else:\n",
    "        print(\"Maaf anda tidak berhak mendapatkan SIM anda\")\n",
    "else:\n",
    "    print(\"Maaf anda tidak berhak mendapatkan SIM anda\")\n",
    "\n",
    "\n",
    "    \n",
    "\n",
    "\n"
   ]
  },
  {
   "attachments": {},
   "cell_type": "markdown",
   "metadata": {},
   "source": [
    "## 2."
   ]
  },
  {
   "attachments": {},
   "cell_type": "markdown",
   "metadata": {},
   "source": [
    "Buatlah program untuk mencari bilangan terbesar yang diinput dari user.<br>\n",
    "<br>Dengan ketentuan sebagai berikut:\n",
    "* Program nenerima 3 input bilangan dari user\n",
    "* Program akan menentukan mana bilangan terbesar\n",
    "* Output yang akan dihasilkan misalnya adalah \"Dari bil_1, bil_2, dan bil_3, bilangan terbesarnya adalah bilangan bil_2\"\n",
    "> *note: Kerjakan soal ini dengan percabangan*"
   ]
  },
  {
   "cell_type": "code",
   "execution_count": 28,
   "metadata": {},
   "outputs": [
    {
     "name": "stdout",
     "output_type": "stream",
     "text": [
      "\n",
      "bilangan pertama = 3\n",
      "bilangan kedua = 1\n",
      "bilangan ketiga = 2\n",
      "\n",
      "dari bilangan 3, bilangan 1, dan bilangan 2, paling besar adalan bilangan 3\n"
     ]
    }
   ],
   "source": [
    "# Kerjakan soal nomor 2 disini\n",
    "\n",
    "satu = int(input(\"masukkan bilangan pertama : \"))\n",
    "dua = int(input(\"masukkan bilangan kedua : \"))\n",
    "tiga = int(input(\"masukkan bilangan ketiga : \"))\n",
    "print(f\"\"\"\n",
    "bilangan pertama = {satu}\n",
    "bilangan kedua = {dua}\n",
    "bilangan ketiga = {tiga}\n",
    "g\n",
    "\"\"\")\n",
    "\n",
    "if satu > dua:\n",
    "    if satu > tiga:\n",
    "        print(f\"dari bilangan {satu}, bilangan {dua}, dan bilangan {tiga}, paling besar adalan bilangan {satu}\")\n",
    "    else:\n",
    "        print(f\"dari bilangan {satu}, bilangan {dua}, dan bilangan {tiga}, paling besar adalan bilangan {tiga}\")\n",
    "elif dua > tiga:\n",
    "     if dua > satu:\n",
    "        print(f\"dari bilangan {satu}, bilangan {dua}, dan bilangan {tiga}, paling besar adalan bilangan {dua}\")\n",
    "else:\n",
    "    print(f\"dari bilangan {satu}, bilangan {dua}, dan bilangan {tiga}, paling besar adalan bilangan {tiga}\")\n",
    "\n",
    "\n",
    "            "
   ]
  }
 ],
 "metadata": {
  "kernelspec": {
   "display_name": "Python 3",
   "language": "python",
   "name": "python3"
  },
  "language_info": {
   "codemirror_mode": {
    "name": "ipython",
    "version": 3
   },
   "file_extension": ".py",
   "mimetype": "text/x-python",
   "name": "python",
   "nbconvert_exporter": "python",
   "pygments_lexer": "ipython3",
   "version": "3.10.8"
  },
  "orig_nbformat": 4
 },
 "nbformat": 4,
 "nbformat_minor": 2
}
