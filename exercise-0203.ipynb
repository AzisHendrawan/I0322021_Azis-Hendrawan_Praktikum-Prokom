{
 "cells": [
  {
   "cell_type": "code",
   "execution_count": 1,
   "metadata": {},
   "outputs": [
    {
     "name": "stdout",
     "output_type": "stream",
     "text": [
      "Azis Hendrawan\n",
      "I0322021\n",
      "A\n"
     ]
    }
   ],
   "source": [
    "print(input(\"Nama: \"))\n",
    "print(input(\"NIM: \"))\n",
    "print(input(\"Kelas: \"))"
   ]
  },
  {
   "attachments": {},
   "cell_type": "markdown",
   "metadata": {},
   "source": [
    "## 1."
   ]
  },
  {
   "attachments": {},
   "cell_type": "markdown",
   "metadata": {},
   "source": [
    "buatlah program sederhana untuk menghitung umur pengguna dengan ketentuan sebagai berikut :\n",
    "* Program meminta pengguna memasukan tanggal, bulan, dan tahun lahir\n",
    "* Program menghitung umur pengguna hingga tanggal 1 januari 2023\n",
    "* Program menampilkan umur dari pengguna"
   ]
  },
  {
   "cell_type": "code",
   "execution_count": 3,
   "metadata": {},
   "outputs": [
    {
     "name": "stdout",
     "output_type": "stream",
     "text": [
      "hari ini tanggal 2023-03-28\n",
      "===============\n",
      "silahkan masukkan tanggal, \n",
      "bulan, dan tahun lahir anda!\n",
      "2004-03-12\n",
      "jadi, umur anda adalah 19 tahun\n"
     ]
    }
   ],
   "source": [
    "# PROGAM 1\n",
    "\n",
    "import datetime as dt\n",
    "\n",
    "a = dt.date.today()\n",
    "print(f\"hari ini tanggal {a}\")\n",
    "\n",
    "print(15*\"=\")\n",
    "\n",
    "print(\"silahkan masukkan tanggal, \\nbulan, dan tahun lahir anda!\")\n",
    "\n",
    "tanggal = int(input(\"Tanggal : \"))\n",
    "bulan = int(input(\"Bulan : \"))\n",
    "tahun = int(input(\"Tahun : \"))\n",
    "\n",
    "b = dt.date(tahun,bulan,tanggal)\n",
    "print(b)\n",
    "\n",
    "c = a - b\n",
    "d = c.days // 365\n",
    "\n",
    "print(f\"jadi, umur anda adalah {d} tahun\")\n",
    "\n"
   ]
  },
  {
   "attachments": {},
   "cell_type": "markdown",
   "metadata": {},
   "source": [
    "## 2."
   ]
  },
  {
   "attachments": {},
   "cell_type": "markdown",
   "metadata": {},
   "source": [
    "Pada 2015, wabah flu burung menyerang Indonesia dan beberapa peternak ayam mengalami kerugian karena banyaknya ayam yang mati. Setiap bulan, jumlah ayamnya berkurang menjadi setengah. Setelah dua bulan, jumlah ayam yang tersisa adalah 200 ekor. Hitunglah jumlah ayam sebelumnya yang dimiliki peternak tersebut! (gunakan rumus deret geometri)\n",
    "\n",
    "> *note: SOAL DIATAS DIKERJAKAN SESUAI DENGAN RUMUS BAKU*"
   ]
  },
  {
   "cell_type": "code",
   "execution_count": 5,
   "metadata": {},
   "outputs": [
    {
     "name": "stdout",
     "output_type": "stream",
     "text": [
      "jadi, jumlah ayam mula mula adalah 800.0\n"
     ]
    }
   ],
   "source": [
    "# PROGAM 2\n",
    "\n",
    "un = 200\n",
    "r = 1/2\n",
    "n = 3\n",
    "# un = a*r**(n-1)\n",
    "a = un / (r**(n - 1))\n",
    "print(f\"jadi, jumlah ayam mula mula adalah {a}\")"
   ]
  },
  {
   "attachments": {},
   "cell_type": "markdown",
   "metadata": {},
   "source": [
    "## 3. "
   ]
  },
  {
   "attachments": {},
   "cell_type": "markdown",
   "metadata": {},
   "source": [
    "* **A** Hitunglah luas Prisma Segitiga dengan ketentuan sebagai berikut:\n",
    "    * Alas dan tutup prisma merupakan segitiga\n",
    "    * Terdapat 3 persegi panjang yang menyinggung alas dan tutup prisma\n",
    "    * Sisi persegi panjang yang menyinggung segitiga adalah sisi lebar\n",
    "```python\n",
    "    dictionary_figure = {\"Persegi\":{\"Sisi\":22},\n",
    "                        \"Persegi Panjang\":{\"Panjang\":10,\"Lebar\":5},\n",
    "                        \"Segitiga Sama Sisi\":{\"Sisi\":6,\"Tinggi\":3**(1/2) * 3},\n",
    "                        \"Lingkaran\":{\"Diameter\":7}}\n",
    "```\n",
    "* **B** Hitunglah luas Tabung dengan ketentuan sebagai berikut:\n",
    "    * Alas dan tutup tabung merupakan lingkaran\n",
    "    * Terdapat 1 persegi yang menyinggung alas dan tutup tabung\n",
    "    * Persegi yang ada mengelilingi lingkaran hingga sisi dari persegi saling bertemu\n",
    "\n",
    "> *note: Pada soal ini kalian hanya boleh menggunakan key-value pair dan index pada list. Tidak diperbolehkan menulis secara langsung dimensi dari figure*"
   ]
  },
  {
   "cell_type": "code",
   "execution_count": 18,
   "metadata": {},
   "outputs": [
    {
     "name": "stdout",
     "output_type": "stream",
     "text": [
      "luas permukaan prisma adalah 211.1769145362398\n",
      "luas permukaan tabung adalah 560.49\n"
     ]
    }
   ],
   "source": [
    "dictionary_figure = {\"Persegi\":{\"Sisi\":22},\n",
    "                        \"Persegi Panjang\":{\"Panjang\":10,\"Lebar\":5},\n",
    "                        \"Segitiga Sama Sisi\":{\"Sisi\":6,\"Tinggi\":3**(1/2) * 3},\n",
    "                        \"Lingkaran\":{\"Diameter\":7}}\n",
    "\n",
    "\n",
    "s = dictionary_figure[\"Persegi\"][\"Sisi\"]\n",
    "p = dictionary_figure[\"Persegi Panjang\"][\"Panjang\"]\n",
    "l = dictionary_figure[\"Persegi Panjang\"][\"Lebar\"]\n",
    "a = dictionary_figure[\"Segitiga Sama Sisi\"][\"Sisi\"]\n",
    "t = dictionary_figure[\"Segitiga Sama Sisi\"][\"Tinggi\"]\n",
    "d = dictionary_figure[\"Lingkaran\"][\"Diameter\"]\n",
    "\n",
    "Lp_prisma = (2 * (a * t / 2 )) + ((3 * a) * p)\n",
    "print(f\"luas permukaan prisma adalah {Lp_prisma}\")\n",
    "\n",
    "Lp_tabung = 3.14 * d * ((d / 2) + s)\n",
    "print(f\"luas permukaan tabung adalah {Lp_tabung}\")\n",
    "\n"
   ]
  }
 ],
 "metadata": {
  "kernelspec": {
   "display_name": "Python 3",
   "language": "python",
   "name": "python3"
  },
  "language_info": {
   "codemirror_mode": {
    "name": "ipython",
    "version": 3
   },
   "file_extension": ".py",
   "mimetype": "text/x-python",
   "name": "python",
   "nbconvert_exporter": "python",
   "pygments_lexer": "ipython3",
   "version": "3.10.8"
  },
  "orig_nbformat": 4,
  "vscode": {
   "interpreter": {
    "hash": "5addf786bcd861d1ce5006f23111f8cbb206731e5b61b0a5632ba9e0252558a8"
   }
  }
 },
 "nbformat": 4,
 "nbformat_minor": 2
}
