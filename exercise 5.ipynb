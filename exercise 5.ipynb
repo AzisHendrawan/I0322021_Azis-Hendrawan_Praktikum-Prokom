{
 "cells": [
  {
   "attachments": {},
   "cell_type": "markdown",
   "metadata": {},
   "source": [
    "1. Buatlah program untuk menampilkan total penjumlahan bilangan ganjil dan total penjumlahan bilangan genap dengan input dari user berupa range (batas atas dan batas bawah)!"
   ]
  },
  {
   "cell_type": "code",
   "execution_count": 1,
   "metadata": {},
   "outputs": [
    {
     "name": "stdout",
     "output_type": "stream",
     "text": [
      "nilai batas atas :  2 dan batas bawah :  7 memiliki penjumlahan bilangan ganjil :  15\n",
      "nilai batas atas :  2 dan batas bawah :  7 memiliki penjumlahan bilangan ganjil :  12\n"
     ]
    }
   ],
   "source": [
    "batasatas = int(input(\"masukkan nilai batas atas : \"))\n",
    "batasbawah = int(input(\"masukkan nilai batas bawah : \"))\n",
    "jumlahganjil = 0\n",
    "jumlahgenap = 0\n",
    "\n",
    "if batasatas > batasbawah:\n",
    "    print(\"batas atas < batas bawah\")\n",
    "for i in range(batasatas, batasbawah + 1):\n",
    "    if i %2:\n",
    "        jumlahganjil += i\n",
    "    else:\n",
    "        jumlahgenap += i\n",
    "\n",
    "print(\"nilai batas atas : \", batasatas, \"dan batas bawah : \", batasbawah, \"memiliki penjumlahan bilangan ganjil : \", jumlahganjil)\n",
    "print(\"nilai batas atas : \", batasatas, \"dan batas bawah : \", batasbawah, \"memiliki penjumlahan bilangan ganjil : \", jumlahgenap)"
   ]
  },
  {
   "attachments": {},
   "cell_type": "markdown",
   "metadata": {},
   "source": [
    "2. Buatlah sebuah list yang berisi daftar makanan khas daerah (minimal 10 makanan termasuk makanan khas Solo). Kemudian buat program pencarian menggunakan pengulangan. Apabila nama makanan yang user inputkan sudah sesuai dengan isi list maka program akan berhenti dan menampilkan output \"(makanan yang diinput user) adalah makanan khas daerah\"."
   ]
  },
  {
   "cell_type": "code",
   "execution_count": 3,
   "metadata": {},
   "outputs": [
    {
     "name": "stdout",
     "output_type": "stream",
     "text": [
      "mie bukan makanan khas daerah\n"
     ]
    }
   ],
   "source": [
    "namamakanan = ['nasi liwet', 'bakso', 'soto', 'timlo', 'serabi',\n",
    "                'tengkleng', 'sop iga', 'rawon', 'gudeg', 'nasi kuning']\n",
    "\n",
    "inputmakanan = input(\"masukkan nama makanan : \")\n",
    "\n",
    "found = False\n",
    "\n",
    "for makanan in namamakanan:\n",
    "    if makanan.lower() == inputmakanan.lower():\n",
    "        found = True\n",
    "        break\n",
    "if found:\n",
    "    print(f\"{inputmakanan} adalah makanan khas daerah\")\n",
    "else:\n",
    "    print(f\"{inputmakanan} bukan makanan khas daerah\")\n"
   ]
  },
  {
   "attachments": {},
   "cell_type": "markdown",
   "metadata": {},
   "source": [
    "3. Buatlah program untuk menghitung rata-rata 7 bilangan dimana bilangan-bilangan tersebut didapat melalui input user!"
   ]
  },
  {
   "cell_type": "code",
   "execution_count": 6,
   "metadata": {},
   "outputs": [
    {
     "name": "stdout",
     "output_type": "stream",
     "text": [
      "penjumlahan bilangan (1, 2, 3, 4, 5, 6, 7)\n",
      "memiliki rata rata 4.0\n"
     ]
    }
   ],
   "source": [
    "pertama = int(input(\"masukkan bilangan pertama : \"))\n",
    "kedua = int(input(\"masukkan bilangan kedua : \"))\n",
    "ketiga = int(input(\"masukkan bilangan ketiga : \"))\n",
    "keempat = int(input(\"masukkan bilangan keempat : \"))\n",
    "kelima = int(input(\"masukkan bilangan kelima : \"))\n",
    "keenam = int(input(\"masukkan bilangan keenam : \"))\n",
    "ketujuh = int(input(\"masukkan bilangan ketujuh : \"))\n",
    "\n",
    "ratarata = (pertama + kedua + ketiga + keempat + kelima + keenam + ketujuh)/7\n",
    "print(f\"penjumlahan bilangan {pertama, kedua, ketiga, keempat, kelima, keenam, ketujuh}\")\n",
    "print(f\"memiliki rata rata {ratarata}\")"
   ]
  }
 ],
 "metadata": {
  "kernelspec": {
   "display_name": "Python 3",
   "language": "python",
   "name": "python3"
  },
  "language_info": {
   "codemirror_mode": {
    "name": "ipython",
    "version": 3
   },
   "file_extension": ".py",
   "mimetype": "text/x-python",
   "name": "python",
   "nbconvert_exporter": "python",
   "pygments_lexer": "ipython3",
   "version": "3.10.8"
  },
  "orig_nbformat": 4
 },
 "nbformat": 4,
 "nbformat_minor": 2
}
